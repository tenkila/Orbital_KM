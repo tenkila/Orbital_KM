{
 "cells": [
  {
   "cell_type": "code",
   "execution_count": 1,
   "id": "3dc1f5c6-fc60-468a-b1c6-382e5a7329ac",
   "metadata": {},
   "outputs": [],
   "source": [
    "import numpy as np\n",
    "import scipy.sparse as sp\n",
    "import matplotlib.pyplot as plt\n",
    "import pickle"
   ]
  },
  {
   "cell_type": "code",
   "execution_count": 2,
   "id": "f5af232d-9ace-4aaa-8d00-00f0f38f63e4",
   "metadata": {},
   "outputs": [],
   "source": [
    "\n",
    "\n",
    "# Define basic sparse matrices (CSR format for efficient arithmetic)\n",
    "sigma_z = sp.dia_matrix(([1, -1], 0), shape=(2, 2), dtype=complex).tocsr()\n",
    "sigma_minus = sp.csr_matrix(([1], ([1], [0])), shape=(2, 2), dtype=complex)\n",
    "identity = sp.eye(2, dtype=complex, format='csr')\n",
    "\n",
    "\n",
    "def generate_sparse_fermionic_operators(N):\n",
    "    \"\"\"\n",
    "    Generate sparse annihilation and creation operators for N orbitals with spin.\n",
    "    \n",
    "    Parameters:\n",
    "    N (int): Number of orbitals.\n",
    "    \n",
    "    Returns:\n",
    "    tuple: (annihilation_ops, creation_ops) where each is a list of 2N sparse matrices.\n",
    "           The order is [orbital_0↑, orbital_0↓, orbital_1↑, orbital_1↓, ...].\n",
    "    \"\"\"\n",
    "    \n",
    "    total_modes = 2 * N\n",
    "    annihilation_ops = []\n",
    "    creation_ops = []\n",
    "    \n",
    "    for p in range(total_modes):\n",
    "        # Initialize operator as a 1x1 identity matrix (to build Kronecker product)\n",
    "        op = sp.eye(1, dtype=complex, format='csr')\n",
    "        \n",
    "        for q in range(total_modes):\n",
    "            if q < p:\n",
    "                term = sigma_z\n",
    "            elif q == p:\n",
    "                term = sigma_minus\n",
    "            else:\n",
    "                term = identity\n",
    "            \n",
    "            # Kronecker product with sparse matrices\n",
    "            op = sp.kron(op, term, format='csr')\n",
    "        \n",
    "        annihilation_ops.append(op)\n",
    "        creation_ops.append(op.conj().transpose())  # Hermitian adjoint\n",
    "    \n",
    "    return annihilation_ops, creation_ops\n",
    "\n",
    "N = 8  # Number of orbitals\n",
    "cs, cdags = generate_sparse_fermionic_operators(N)"
   ]
  },
  {
   "cell_type": "code",
   "execution_count": 3,
   "id": "8cb756b3-07c1-41f3-959d-991859b55c91",
   "metadata": {},
   "outputs": [],
   "source": [
    "NN_list = np.array([[0, 1, 1, -1], [1, 2, -1, -1], [2,3, 1, -1], [3, 0, -1, -1],\n",
    "                   [4, 5, 1, -1], [5, 6, -1, -1], [6,7, 1, -1], [7, 4, -1, -1],\n",
    "                    [4, 3, -1, 1], [3, 6, 1, 1], [6,1, -1, 1], [1, 4, 1, 1],\n",
    "                    [0, 7, -1, 1], [7, 2, 1, 1], [2,5, -1, 1], [5, 0, 1, 1]])\n",
    "\n",
    "NNN_plus = np.array([[1, 3, 0, 1],[5, 7, 0, 1],[0, 4, 1, 0],[2, 6, 1, 0]])\n",
    "NNN_minus = np.array([[1, 5, 1, 0],[3, 7, 1, 0], [0, 2, 0, 1], [4, 6, 0, 1]])\n",
    "\n",
    "def hamil(t1, t2, mu, U, phi, k):\n",
    "    hamiltonian = sp.csr_matrix((4**N, 4**N), dtype=complex)\n",
    "    for NN in NN_list:\n",
    "        hopping_down = np.exp(1j*k.T@NN[2:]/np.sqrt(2)+phi)*t1*-1\n",
    "        hopping_up = np.exp(1j*k.T@NN[2:]/np.sqrt(2)-phi)\n",
    "        hamiltonian+=(cdags[NN[0]*2]@cs[NN[1]*2]*hopping_down + cdags[NN[1]*2]@cs[NN[0]*2]*np.conj(hopping_down))\n",
    "        hamiltonian+=(cdags[NN[0]*2+1]@cs[NN[1]*2+1]*hopping_up + cdags[NN[1]*2+1]@cs[NN[0]*2+1]*np.conj(hopping_up))\n",
    "    for NNN in NNN_plus:\n",
    "        hopping = 2*np.cos(k.T@NNN[2:])*t2\n",
    "        hamiltonian+=(cdags[NNN[0]*2]@cs[NNN[1]*2] + cdags[NNN[1]*2]@cs[NNN[0]*2])*hopping\n",
    "        hamiltonian+=(cdags[NNN[0]*2+1]@cs[NNN[1]*2+1] + cdags[NNN[1]*2+1]@cs[NNN[0]*2+1])*hopping\n",
    "    for NNN in NNN_minus:\n",
    "        hopping = -2*np.cos(k.T@NNN[2:])*t2\n",
    "        hamiltonian+=(cdags[NNN[0]*2]@cs[NNN[1]*2] + cdags[NNN[1]*2]@cs[NNN[0]*2])*hopping\n",
    "        hamiltonian+=(cdags[NNN[0]*2+1]@cs[NNN[1]*2+1] + cdags[NNN[1]*2+1]@cs[NNN[0]*2+1])*hopping\n",
    "    for i in range(N):\n",
    "        hamiltonian+=cdags[i*2]@cs[i*2]@cdags[i*2+1]@cs[i*2+1]*U\n",
    "        hamiltonian+=-mu*(cdags[i*2]@cs[i*2]+cdags[i*2+1]@cs[i*2+1])\n",
    "    \n",
    "    return hamiltonian"
   ]
  },
  {
   "cell_type": "code",
   "execution_count": 4,
   "id": "65950411-1427-481b-9e29-18f1cb6cf652",
   "metadata": {},
   "outputs": [],
   "source": [
    "test_hamil = hamil(1, 0.5, 5, 10, np.pi/2, np.array([np.pi,np.pi]))"
   ]
  },
  {
   "cell_type": "code",
   "execution_count": 5,
   "id": "83561f48-ea57-49b6-b03e-e3dbf994c8ba",
   "metadata": {},
   "outputs": [],
   "source": [
    "def get_eigenbands(t1, t2, mu, U, phi, k_num):\n",
    "    \n",
    "    k_range = (np.arange(k_num)-k_num/2)*np.pi/k_num\n",
    "\n",
    "    eigenbands = np.zeros((k_num, k_num, 10))\n",
    "    \n",
    "    for ix, kx in enumerate(k_range):\n",
    "        for iy, ky in enumerate(k_range):\n",
    "            k = np.array([kx, ky])\n",
    "            hamil_k = hamil(t1, t2, mu, U, phi, k)\n",
    "            evals, _= sp.linalg.eigsh(hamil_k, return_eigenvectors=True, which='SM', k=4)\n",
    "            eigenbands[ix, iy, :] = evals\n",
    "            print(ix, iy)\n",
    "    return eigenbands"
   ]
  },
  {
   "cell_type": "code",
   "execution_count": null,
   "id": "ba93b4d6-4e5b-461b-b6ac-df0a65cb5128",
   "metadata": {},
   "outputs": [],
   "source": [
    "t1 = 1\n",
    "t2 = 1/np.sqrt(2)\n",
    "mu = 0\n",
    "U = 0\n",
    "phi = np.pi/4\n",
    "k_num = 30\n",
    "\n",
    "eigenbands = get_eigenbands(t1, t2, mu, U, phi, k_num)\n"
   ]
  },
  {
   "cell_type": "code",
   "execution_count": 23,
   "id": "e55711c9-50d5-4e69-a294-24885cef6c6e",
   "metadata": {},
   "outputs": [
    {
     "data": {
      "image/png": "[encoded data removed]",
      "text/plain": [
       "<Figure size 640x480 with 1 Axes>"
      ]
     },
     "metadata": {},
     "output_type": "display_data"
    }
   ],
   "source": [
    "k_num = 20\n",
    "k_range = (np.arange(k_num)-k_num/2)*np.pi/k_num\n",
    "for i in range(6):\n",
    "    plt.scatter(k_range, eigenbands[0, :, i])"
   ]
  },
  {
   "cell_type": "code",
   "execution_count": 18,
   "id": "b446d631-13b8-4e0c-b6be-745f72223aa8",
   "metadata": {},
   "outputs": [
    {
     "data": {
      "text/plain": [
       "array([-1.57079633, -1.41371669, -1.25663706, -1.09955743, -0.9424778 ,\n",
       "       -0.78539816, -0.62831853, -0.4712389 , -0.31415927, -0.15707963,\n",
       "        0.        ,  0.15707963,  0.31415927,  0.4712389 ,  0.62831853,\n",
       "        0.78539816,  0.9424778 ,  1.09955743,  1.25663706,  1.41371669])"
      ]
     },
     "execution_count": 18,
     "metadata": {},
     "output_type": "execute_result"
    }
   ],
   "source": [
    "k_range = (np.arange(k_num)-k_num/2)*np.pi/k_num\n",
    "k_range"
   ]
  },
  {
   "cell_type": "code",
   "execution_count": null,
   "id": "64d580ce-e99e-4ab8-9b3e-0db7171ed9b1",
   "metadata": {},
   "outputs": [],
   "source": []
  }
 ],
 "metadata": {
  "kernelspec": {
   "display_name": "Python 3 (ipykernel)",
   "language": "python",
   "name": "python3"
  },
  "language_info": {
   "codemirror_mode": {
    "name": "ipython",
    "version": 3
   },
   "file_extension": ".py",
   "mimetype": "text/x-python",
   "name": "python",
   "nbconvert_exporter": "python",
   "pygments_lexer": "ipython3",
   "version": "3.11.5"
  }
 },
 "nbformat": 4,
 "nbformat_minor": 5
}
