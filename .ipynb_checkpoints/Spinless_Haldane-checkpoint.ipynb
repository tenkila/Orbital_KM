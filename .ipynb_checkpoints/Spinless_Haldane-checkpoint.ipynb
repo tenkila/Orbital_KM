{
 "cells": [
  {
   "cell_type": "code",
   "execution_count": 1,
   "id": "3dbf3791-7b13-425a-9b89-0e2a36872666",
   "metadata": {},
   "outputs": [],
   "source": [
    "import numpy as np\n",
    "import scipy.sparse as sp\n",
    "import matplotlib.pyplot as plt\n",
    "import pickle, time\n",
    "\n",
    "from numba import njit"
   ]
  },
  {
   "cell_type": "code",
   "execution_count": 6,
   "id": "35542b82-43f6-4480-acd0-7d6858b28995",
   "metadata": {},
   "outputs": [],
   "source": [
    "\n",
    "\n",
    "# Define basic sparse matrices (CSR format for efficient arithmetic)\n",
    "sigma_z = sp.dia_matrix(([1, -1], 0), shape=(2, 2), dtype=complex).tocsr()\n",
    "sigma_minus = sp.csr_matrix(([1], ([1], [0])), shape=(2, 2), dtype=complex)\n",
    "identity = sp.eye(2, dtype=complex, format='csr')\n",
    "\n",
    "\n",
    "def generate_sparse_fermionic_operators(N):\n",
    "    \"\"\"\n",
    "    Generate sparse annihilation and creation operators for N orbitals with spin.\n",
    "    \n",
    "    Parameters:\n",
    "    N (int): Number of orbitals.\n",
    "    \n",
    "    Returns:\n",
    "    tuple: (annihilation_ops, creation_ops) where each is a list of 2N sparse matrices.\n",
    "           The order is [orbital_0↑, orbital_0↓, orbital_1↑, orbital_1↓, ...].\n",
    "    \"\"\"\n",
    "    \n",
    "    total_modes = N\n",
    "    annihilation_ops = []\n",
    "    creation_ops = []\n",
    "    \n",
    "    for p in range(total_modes):\n",
    "        # Initialize operator as a 1x1 identity matrix (to build Kronecker product)\n",
    "        op = sp.eye(1, dtype=complex, format='csr')\n",
    "        \n",
    "        for q in range(total_modes):\n",
    "            if q < p:\n",
    "                term = sigma_z\n",
    "            elif q == p:\n",
    "                term = sigma_minus\n",
    "            else:\n",
    "                term = identity\n",
    "            \n",
    "            # Kronecker product with sparse matrices\n",
    "            op = sp.kron(op, term, format='csr')\n",
    "        \n",
    "        annihilation_ops.append(op)\n",
    "        creation_ops.append(op.conj().transpose())  # Hermitian adjoint\n",
    "    \n",
    "    return annihilation_ops, creation_ops\n",
    "\n",
    "N = 8  # Number of orbitals\n",
    "cs, cdags = generate_sparse_fermionic_operators(N)"
   ]
  },
  {
   "cell_type": "code",
   "execution_count": 47,
   "id": "e29ddae9-3a00-4150-9164-56b784051d4a",
   "metadata": {},
   "outputs": [],
   "source": [
    "def get_hopping_NN(NN, k):\n",
    "    if NN in np.array([(1,2), (3, 4), (7,8), (5, 6)])-1:\n",
    "        return np.exp(-1j*a[1]@k)\n",
    "    elif NN in np.array([(6, 1), (8, 3), (4, 7), (2, 5)])-1:\n",
    "        return np.exp(1j*a[0]@k)\n",
    "    elif NN in np.array([(2, 3), (4,1), (6, 7), (8,5)])-1:\n",
    "        return np.exp(1j*a[2]@k)\n",
    "\n",
    "def get_hopping_NNN(NNN, k):\n",
    "    if NNN in np.array([(1,3), (5, 7), (2, 4), (6, 8)])-1:\n",
    "        return np.exp(1j*b[0]@k)\n",
    "    elif NNN in np.array([(1, 5), (3, 7), (2, 6), (4, 8)])-1:\n",
    "        return np.exp(1j*b[1]@k)\n",
    "    elif NNN in np.array([(2, 8), (1, 7), (3, 5), (4, 6)])-1:\n",
    "        return np.exp(1j*b[2]@k)\n",
    "        "
   ]
  },
  {
   "cell_type": "code",
   "execution_count": 48,
   "id": "c59bb9a6-944c-4fa4-aaf4-801841931fe1",
   "metadata": {},
   "outputs": [],
   "source": [
    "#Generate hamiltonian for 2x2x2 orbital Kane-Mele model\n",
    "\n",
    "NN_list = np.array([(1,2), (3, 4), (7,8), (5, 6), (6, 1), (8, 3), (4, 7), (2, 5), (2, 3), (4,1), (6, 7), (8,5)]) - 1\n",
    "NNN_list = np.array([(1, 3), (5, 7), (1, 5), (1, 7), (3, 5), (3, 7), (2, 8), (4, 6), (2, 4), (6, 8), (2, 6), (4, 8)]) - 1\n",
    "\n",
    "a = np.array([[1, 0],[-1/2, np.sqrt(3)/2],[-1/2, -np.sqrt(3)/2]])\n",
    "b = np.array([[0, np.sqrt(3)],[3/2, -np.sqrt(3)/2],[-3/2, -np.sqrt(3)/2]])\n",
    "\n",
    "\n",
    "def hamil(t, mu, U, l_so, k):\n",
    "    hamiltonian = sp.csr_matrix((2**N, 2**N), dtype=complex)\n",
    "    for NN in NN_list:\n",
    "        hamiltonian+=(cdags[NN[0]]@cs[NN[1]]*get_hopping_NN(NN, k) + cdags[NN[1]]@cs[NN[0]]*np.conj(get_hopping_NN(NN, k)))*-t\n",
    "        hamiltonian+=cdags[NN[0]]@cs[NN[0]]@cdags[NN[1]]@cs[NN[1]]*U\n",
    "    for NNN in NNN_list:\n",
    "        hamiltonian+=(cdags[NNN[0]]@cs[NNN[1]] + cdags[NNN[1]]@cs[NNN[0]])*l_so*2*get_hopping_NNN(NNN, k).real\n",
    "    for i in range(N):\n",
    "        hamiltonian+=-mu*(cdags[i]@cs[i])\n",
    "    \n",
    "    return hamiltonian"
   ]
  },
  {
   "cell_type": "code",
   "execution_count": 49,
   "id": "e8fe5caa-4a76-453b-9c97-40310b5ca2cc",
   "metadata": {},
   "outputs": [
    {
     "data": {
      "text/plain": [
       "<256x256 sparse matrix of type '<class 'numpy.complex128'>'\n",
       "\twith 3293 stored elements in Compressed Sparse Row format>"
      ]
     },
     "execution_count": 49,
     "metadata": {},
     "output_type": "execute_result"
    }
   ],
   "source": [
    "hamil(1, 0, 10, 0.3, np.array([1,1]))"
   ]
  },
  {
   "cell_type": "code",
   "execution_count": 36,
   "id": "43e1d478-e2d7-4c07-8807-fb373514b544",
   "metadata": {},
   "outputs": [
    {
     "data": {
      "image/png": "[encoded data removed]",
      "text/plain": [
       "<Figure size 640x480 with 1 Axes>"
      ]
     },
     "metadata": {},
     "output_type": "display_data"
    }
   ],
   "source": [
    "b1 = np.array([np.sqrt(3)/2, 1/2])*4*np.pi/np.sqrt(3)\n",
    "b2 = np.array([np.sqrt(3)/2, -1/2])*4*np.pi/np.sqrt(3)\n",
    "\n",
    "def get_BZ_points(k_num):\n",
    "    k_points = []\n",
    "    for n in range(k_num):\n",
    "        for m in range(k_num):\n",
    "            k_points.append(b1*n/k_num+b2*m/k_num)\n",
    "\n",
    "    return k_points\n",
    "\n",
    "for k in get_BZ_points(10):\n",
    "    plt.scatter(k[0], k[1], c='k')\n",
    "\n",
    "br1 = np.array([np.sqrt(3), -1])*np.pi/np.sqrt(3)\n",
    "br2 = np.array([0, 2])*np.pi/np.sqrt(3)\n",
    "\n",
    "def get_redBZ_points(k_num):\n",
    "    k_points = []\n",
    "    for n in range(k_num):\n",
    "        for m in range(k_num):\n",
    "            k_points.append(b1*n/k_num/2+b2*m/k_num/2)\n",
    "\n",
    "    return k_points\n",
    "\n",
    "for k in get_redBZ_points(10):\n",
    "    plt.scatter(k[0], k[1], c='red')"
   ]
  },
  {
   "cell_type": "code",
   "execution_count": 41,
   "id": "693a8121-3a18-4fb2-a13f-e8779847f407",
   "metadata": {},
   "outputs": [
    {
     "data": {
      "text/plain": [
       "array([0., 1., 1., 1., 1., 1., 1., 1., 1., 2., 2., 2., 2., 2., 2., 2., 2.,\n",
       "       2., 2., 2., 2., 2., 2., 2., 2., 2., 2., 2., 2., 2., 2., 2., 2., 2.,\n",
       "       2., 2., 2., 3., 3., 3., 3., 3., 3., 3., 3., 3., 3., 3., 3., 3., 3.,\n",
       "       3., 3., 3., 3., 3., 3., 3., 3., 3., 3., 3., 3., 3., 3., 3., 3., 3.,\n",
       "       3., 3., 3., 3., 3., 3., 3., 3., 3., 3., 3., 3., 3., 3., 3., 3., 3.,\n",
       "       3., 3., 3., 3., 3., 3., 3., 3., 4., 4., 4., 4., 4., 4., 4., 4., 4.,\n",
       "       4., 4., 4., 4., 4., 4., 4., 4., 4., 4., 4., 4., 4., 4., 4., 4., 4.,\n",
       "       4., 4., 4., 4., 4., 4., 4., 4., 4., 4., 4., 4., 4., 4., 4., 4., 4.,\n",
       "       4., 4., 4., 4., 4., 4., 4., 4., 4., 4., 4., 4., 4., 4., 4., 4., 4.,\n",
       "       4., 4., 4., 4., 4., 4., 4., 4., 4., 4., 5., 5., 5., 5., 5., 5., 5.,\n",
       "       5., 5., 5., 5., 5., 5., 5., 5., 5., 5., 5., 5., 5., 5., 5., 5., 5.,\n",
       "       5., 5., 5., 5., 5., 5., 5., 5., 5., 5., 5., 5., 5., 5., 5., 5., 5.,\n",
       "       5., 5., 5., 5., 5., 5., 5., 5., 5., 5., 5., 5., 5., 5., 5., 6., 6.,\n",
       "       6., 6., 6., 6., 6., 6., 6., 6., 6., 6., 6., 6., 6., 6., 6., 6., 6.,\n",
       "       6., 6., 6., 6., 6., 6., 6., 6., 6., 7., 7., 7., 7., 7., 7., 7., 7.,\n",
       "       8.])"
      ]
     },
     "execution_count": 41,
     "metadata": {},
     "output_type": "execute_result"
    }
   ],
   "source": [
    "num_op = sp.csr_matrix((2**N, 2**N), dtype=complex)\n",
    "for i in range(N):\n",
    "    num_op+=cdags[i]@cs[i]\n",
    "\n",
    "#evals, evecs = sp.linalg.eigsh(num_op[m_indices, :][:, m_indices], return_eigenvectors=True, which='SM', k=10)\n",
    "#evals\n",
    "\n",
    "np.linalg.eigvalsh(num_op.toarray())"
   ]
  },
  {
   "cell_type": "code",
   "execution_count": null,
   "id": "f5e2fad1-2732-47c9-91b4-ee8bedd56b49",
   "metadata": {},
   "outputs": [
    {
     "name": "stdout",
     "output_type": "stream",
     "text": [
      "8\n",
      "0\n",
      "1\n",
      "2\n",
      "3\n"
     ]
    }
   ],
   "source": [
    "U_list = np.array([8])#np.arange(0, 8, 0.1)\n",
    "t = 1\n",
    "l_so = -0.1\n",
    "k_num = 20\n",
    "\n",
    "U = 0\n",
    "mu_range = np.linspace(U/2-2, U/2+2, 40)\n",
    "occ_num = np.zeros(shape=(len(U_list), len(mu_range)))\n",
    "BZ_points = get_redBZ_points(k_num)\n",
    "\n",
    "for U_ind, U in enumerate(U_list):\n",
    "    print(U)\n",
    "    mu_range = np.linspace(-2, 2, 40)\n",
    "    for mu_ind, mu in enumerate(mu_range):\n",
    "        print(mu_ind)\n",
    "        occ_list = np.zeros(k_num**2)\n",
    "        for ind, k in enumerate(BZ_points):\n",
    "            hamil_k = hamil(t, mu, U, l_so, k)\n",
    "            evals, evecs = sp.linalg.eigsh(hamil_k, which='SA', k=6)\n",
    "            #print(evals)\n",
    "            occ_list[ind] = (np.conj(evecs[:,0].T)@num_op@ evecs[:,0]).real\n",
    "            #print((np.conj(evecs[:,0].T)@num_op@ evecs[:,0]).real)\n",
    "        occ_num[U_ind, mu_ind] = (occ_list.sum()/k_num**2)"
   ]
  },
  {
   "cell_type": "code",
   "execution_count": null,
   "id": "63ec334b-b7cb-4616-9b0a-7a69aa2916cd",
   "metadata": {},
   "outputs": [],
   "source": [
    "#U_list = np.arange(0, 8, 0.1)\n",
    "#occ_num = np.load(\"occ_num_testhalffill.npy\")\n",
    "mu_half_fill = []\n",
    "\n",
    "for U_ind, U in enumerate(U_list[:]):\n",
    "    mu_range = np.linspace(-2, 2, 40)\n",
    "    plt.scatter(mu_range, occ_num[U_ind, :])\n"
   ]
  },
  {
   "cell_type": "code",
   "execution_count": null,
   "id": "6d205eac-d228-4a7a-89a2-11e473b988c9",
   "metadata": {},
   "outputs": [],
   "source": []
  }
 ],
 "metadata": {
  "kernelspec": {
   "display_name": "Python 3 (ipykernel)",
   "language": "python",
   "name": "python3"
  },
  "language_info": {
   "codemirror_mode": {
    "name": "ipython",
    "version": 3
   },
   "file_extension": ".py",
   "mimetype": "text/x-python",
   "name": "python",
   "nbconvert_exporter": "python",
   "pygments_lexer": "ipython3",
   "version": "3.12.3"
  }
 },
 "nbformat": 4,
 "nbformat_minor": 5
}
