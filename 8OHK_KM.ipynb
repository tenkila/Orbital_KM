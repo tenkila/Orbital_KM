{
 "cells": [
  {
   "cell_type": "code",
   "execution_count": 1,
   "id": "cac44fa5",
   "metadata": {},
   "outputs": [],
   "source": [
    "import numpy as np\n",
    "import scipy.sparse as sp\n",
    "import matplotlib.pyplot as plt"
   ]
  },
  {
   "cell_type": "code",
   "execution_count": 10,
   "id": "b35d685b",
   "metadata": {},
   "outputs": [],
   "source": [
    "\n",
    "\n",
    "# Define basic sparse matrices (CSR format for efficient arithmetic)\n",
    "sigma_z = sp.dia_matrix(([1, -1], 0), shape=(2, 2), dtype=complex).tocsr()\n",
    "sigma_minus = sp.csr_matrix(([1], ([1], [0])), shape=(2, 2), dtype=complex)\n",
    "identity = sp.eye(2, dtype=complex, format='csr')\n",
    "\n",
    "\n",
    "def generate_sparse_fermionic_operators(N):\n",
    "    \"\"\"\n",
    "    Generate sparse annihilation and creation operators for N orbitals with spin.\n",
    "    \n",
    "    Parameters:\n",
    "    N (int): Number of orbitals.\n",
    "    \n",
    "    Returns:\n",
    "    tuple: (annihilation_ops, creation_ops) where each is a list of 2N sparse matrices.\n",
    "           The order is [orbital_0↑, orbital_0↓, orbital_1↑, orbital_1↓, ...].\n",
    "    \"\"\"\n",
    "    \n",
    "    total_modes = 2 * N\n",
    "    annihilation_ops = []\n",
    "    creation_ops = []\n",
    "    \n",
    "    for p in range(total_modes):\n",
    "        # Initialize operator as a 1x1 identity matrix (to build Kronecker product)\n",
    "        op = sp.eye(1, dtype=complex, format='csr')\n",
    "        \n",
    "        for q in range(total_modes):\n",
    "            if q < p:\n",
    "                term = sigma_z\n",
    "            elif q == p:\n",
    "                term = sigma_minus\n",
    "            else:\n",
    "                term = identity\n",
    "            \n",
    "            # Kronecker product with sparse matrices\n",
    "            op = sp.kron(op, term, format='csr')\n",
    "        \n",
    "        annihilation_ops.append(op)\n",
    "        creation_ops.append(op.conj().transpose())  # Hermitian adjoint\n",
    "    \n",
    "    return annihilation_ops, creation_ops\n",
    "\n",
    "N = 8  # Number of orbitals\n",
    "cs, cdags = generate_sparse_fermionic_operators(N)"
   ]
  },
  {
   "cell_type": "code",
   "execution_count": 11,
   "id": "d0e5f739",
   "metadata": {},
   "outputs": [],
   "source": [
    "#Generate hamiltonian for 2x2x2 orbital Kane-Mele model\n",
    "\n",
    "NN_list = np.array([(1,2), (2, 3), (3,4), (5, 6), (5, 8), (7, 8), (2, 5)]) - 1\n",
    "NNN_list = np.array([(1, 3), (5, 7), (1, 5), (1, 7), (2, 8), (4, 6), (2, 4), (6, 8), (2, 6)]) - 1\n",
    "\n",
    "a = np.array([[1, 0],[-1/2, np.sqrt(3)/2],[-1/2, np.sqrt(3)/2]])\n",
    "b = np.array([[0, np.sqrt(3)],[3/2, -np.sqrt(3)/2],[-3/2, -np.sqrt(3)/2]])\n",
    "\n",
    "\n",
    "def g(k):\n",
    "    return np.sum(np.exp(1j*a@k))\n",
    "\n",
    "def g_bar(k):\n",
    "    return np.sum(np.exp(1j*b@k))\n",
    "\n",
    "def hamil(t, mu, U, l_so, k):\n",
    "    hamiltonian = sp.csr_matrix((4**N, 4**N), dtype=complex)\n",
    "    g_k = g(k)\n",
    "    g_bar_k = g_bar(k)\n",
    "    for NN in NN_list:\n",
    "        hamiltonian+=(cdags[NN[0]*2]@cs[NN[1]*2]*g_k + cdags[NN[1]*2]@cs[NN[0]*2]*np.conj(g_k))*t*-1\n",
    "        hamiltonian+=(cdags[NN[0]*2+1]@cs[NN[1]*2+1]*g_k + cdags[NN[1]*2+1]@cs[NN[0]*2+1]*np.conj(g_k))*t*-1\n",
    "    for NNN in NNN_list:\n",
    "        hamiltonian+=(cdags[NNN[0]*2]@cs[NNN[1]*2]*1j*g_bar_k + cdags[NNN[1]*2]@cs[NNN[0]*2]*np.conj(1j*g_bar_k))*l_so\n",
    "        hamiltonian+=(cdags[NNN[0]*2+1]@cs[NNN[1]*2+1]*1j*g_bar_k + cdags[NNN[1]*2+1]@cs[NNN[0]*2+1]*np.conj(1j*g_bar_k))*l_so\n",
    "    for i in range(N):\n",
    "        hamiltonian+=cdags[i*2]@cs[i*2]@cdags[i*2+1]@cs[i*2+1]*U\n",
    "        hamiltonian+=-mu*(cdags[i*2]@cs[i*2]+cdags[i*2+1]@cs[i*2+1])\n",
    "    \n",
    "    return hamiltonian"
   ]
  },
  {
   "cell_type": "code",
   "execution_count": 12,
   "id": "e206c1bc",
   "metadata": {},
   "outputs": [],
   "source": [
    "test_hamil = hamil(1, 5, 10, 0.3, (np.pi,np.pi))"
   ]
  },
  {
   "cell_type": "code",
   "execution_count": 13,
   "id": "a9b1b48b",
   "metadata": {},
   "outputs": [],
   "source": [
    "evals, evecs = sp.linalg.eigsh(test_hamil, return_eigenvectors=True, which='SR')"
   ]
  },
  {
   "cell_type": "code",
   "execution_count": 14,
   "id": "f70a662e",
   "metadata": {},
   "outputs": [],
   "source": [
    "cutoff = np.sum(np.abs((evals-evals[0]))<1e-10)"
   ]
  },
  {
   "cell_type": "code",
   "execution_count": 15,
   "id": "d41b3c23",
   "metadata": {},
   "outputs": [
    {
     "data": {
      "text/plain": [
       "array([[ 4.26984659e-18+8.51677413e-21j],\n",
       "       [ 4.09568858e-19+1.22318897e-18j],\n",
       "       [ 1.00061654e-18-1.58040800e-19j],\n",
       "       ...,\n",
       "       [-1.07410528e-18+1.95892582e-20j],\n",
       "       [-2.97237348e-18+1.54234764e-18j],\n",
       "       [ 5.78140751e-18-1.97088975e-18j]])"
      ]
     },
     "execution_count": 15,
     "metadata": {},
     "output_type": "execute_result"
    }
   ],
   "source": [
    "evecs[:,:cutoff]"
   ]
  },
  {
   "cell_type": "code",
   "execution_count": 21,
   "id": "a278ae76",
   "metadata": {},
   "outputs": [],
   "source": [
    "def get_occupancy(t, U, mu, l_so, k_num):\n",
    "    \n",
    "    k_range = np.arange(k_num)/k_num\n",
    "\n",
    "    kx_range = np.array([[-1/2, np.sqrt(3)/2]]*k_num)*4*np.pi/np.sqrt(3)*k_range[:, np.newaxis]\n",
    "    ky_range = np.array([[1/2, np.sqrt(3)/2]]*k_num)*4*np.pi/np.sqrt(3)*k_range[:, np.newaxis]\n",
    "    \n",
    "    occ_sum = 0\n",
    "    acc = 1\n",
    "    for kx in kx_range:\n",
    "        for ky in ky_range:\n",
    "            #print(str(acc)+\"/\"+str(k_num**2)); acc+=1;\n",
    "            k = kx+ky\n",
    "            hamil_k = hamil(t, mu, U, l_so, k)\n",
    "            evals, evecs = sp.linalg.eigsh(hamil_k, return_eigenvectors=True, which='SR', k=4)\n",
    "            cutoff = np.sum(np.abs((evals-evals[0]))<1e-10)\n",
    "            gs_vecs = evecs[:,:cutoff]\n",
    "            for i in range(2*N):\n",
    "                occ_sum += (gs_vecs.conj().T@cdags[i]@cs[i]@gs_vecs).sum()/cutoff \n",
    "    \n",
    "    return occ_sum/(k_num**2)/(2*N)"
   ]
  },
  {
   "cell_type": "code",
   "execution_count": 22,
   "id": "2e01dedd",
   "metadata": {},
   "outputs": [
    {
     "name": "stdout",
     "output_type": "stream",
     "text": [
      "0 19\n"
     ]
    },
    {
     "name": "stderr",
     "output_type": "stream",
     "text": [
      "/tmp/ipykernel_219176/2117233224.py:12: ComplexWarning: Casting complex values to real discards the imaginary part\n",
      "  occ_array[ind] = get_occupancy(t, U, mu, l_so, k_num)\n"
     ]
    },
    {
     "name": "stdout",
     "output_type": "stream",
     "text": [
      "1 19\n",
      "2 19\n",
      "3 19\n",
      "4 19\n",
      "5 19\n",
      "6 19\n",
      "7 19\n",
      "8 19\n",
      "9 19\n",
      "10 19\n",
      "11 19\n",
      "12 19\n",
      "13 19\n",
      "14 19\n",
      "15 19\n",
      "16 19\n",
      "17 19\n",
      "18 19\n",
      "19 19\n"
     ]
    }
   ],
   "source": [
    "t = 1\n",
    "U = 10\n",
    "mu = U/2\n",
    "l_so = 0.3\n",
    "k_num = 20\n",
    "\n",
    "mu_range = np.linspace(U/2 - U, U/2, 20)\n",
    "occ_array = np.zeros_like(mu_range)\n",
    "\n",
    "for ind, mu in enumerate(mu_range):\n",
    "    print(ind, len(mu_range)-1)\n",
    "    occ_array[ind] = get_occupancy(t, U, mu, l_so, k_num)"
   ]
  },
  {
   "cell_type": "code",
   "execution_count": 19,
   "id": "168ac3c2",
   "metadata": {},
   "outputs": [
    {
     "data": {
      "text/plain": [
       "<matplotlib.collections.PathCollection at 0x7e6227908d10>"
      ]
     },
     "execution_count": 19,
     "metadata": {},
     "output_type": "execute_result"
    },
    {
     "data": {
      "image/png": "[encoded data removed]",
      "text/plain": [
       "<Figure size 640x480 with 1 Axes>"
      ]
     },
     "metadata": {},
     "output_type": "display_data"
    }
   ],
   "source": [
    "plt.scatter(mu_range,occ_array)"
   ]
  },
  {
   "cell_type": "code",
   "execution_count": 20,
   "id": "0ec8f4bc-bbcc-49c4-a046-f1a4f186988c",
   "metadata": {},
   "outputs": [
    {
     "data": {
      "text/plain": [
       "array([0.0434375 , 0.30084444, 0.5       , 0.70757727, 0.9559375 ])"
      ]
     },
     "execution_count": 20,
     "metadata": {},
     "output_type": "execute_result"
    }
   ],
   "source": [
    "occ_array"
   ]
  },
  {
   "cell_type": "code",
   "execution_count": 75,
   "id": "8cfda116",
   "metadata": {},
   "outputs": [],
   "source": [
    "k_num = 20\n",
    "\n",
    "k_range = (np.arange(k_num)-k_num/2)/k_num\n",
    "\n",
    "kx_range = np.array([[-1/2, np.sqrt(3)/2]]*k_num)*4*np.pi/np.sqrt(3)*k_range[:, np.newaxis]\n",
    "ky_range = np.array([[1/2, np.sqrt(3)/2]]*k_num)*4*np.pi/np.sqrt(3)*k_range[:, np.newaxis]"
   ]
  },
  {
   "cell_type": "code",
   "execution_count": 78,
   "id": "30466300",
   "metadata": {},
   "outputs": [
    {
     "data": {
      "text/plain": [
       "(-7.0, 7.0)"
      ]
     },
     "execution_count": 78,
     "metadata": {},
     "output_type": "execute_result"
    },
    {
     "data": {
      "image/png": "[encoded data removed]",
      "text/plain": [
       "<Figure size 640x480 with 1 Axes>"
      ]
     },
     "metadata": {},
     "output_type": "display_data"
    }
   ],
   "source": [
    "\n",
    "for kx in kx_range:\n",
    "    for ky in ky_range:\n",
    "        k = kx+ky\n",
    "        #print(k[0], k[1])\n",
    "        plt.scatter([k[0]], [k[1]], c='k')\n",
    "        \n",
    "plt.xlim(-7, 7)\n",
    "plt.ylim(-7, 7)"
   ]
  },
  {
   "cell_type": "code",
   "execution_count": null,
   "id": "ead1fa00",
   "metadata": {},
   "outputs": [],
   "source": []
  }
 ],
 "metadata": {
  "kernelspec": {
   "display_name": "Python 3 (ipykernel)",
   "language": "python",
   "name": "python3"
  },
  "language_info": {
   "codemirror_mode": {
    "name": "ipython",
    "version": 3
   },
   "file_extension": ".py",
   "mimetype": "text/x-python",
   "name": "python",
   "nbconvert_exporter": "python",
   "pygments_lexer": "ipython3",
   "version": "3.12.3"
  }
 },
 "nbformat": 4,
 "nbformat_minor": 5
}
