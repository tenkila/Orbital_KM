{
 "cells": [
  {
   "cell_type": "code",
   "execution_count": 1,
   "id": "cac44fa5",
   "metadata": {},
   "outputs": [],
   "source": [
    "import numpy as np\n",
    "import scipy.sparse as sp\n",
    "import matplotlib.pyplot as plt\n",
    "import pickle"
   ]
  },
  {
   "cell_type": "code",
   "execution_count": 2,
   "id": "b35d685b",
   "metadata": {},
   "outputs": [],
   "source": [
    "\n",
    "\n",
    "# Define basic sparse matrices (CSR format for efficient arithmetic)\n",
    "sigma_z = sp.dia_matrix(([1, -1], 0), shape=(2, 2), dtype=complex).tocsr()\n",
    "sigma_minus = sp.csr_matrix(([1], ([1], [0])), shape=(2, 2), dtype=complex)\n",
    "identity = sp.eye(2, dtype=complex, format='csr')\n",
    "\n",
    "\n",
    "def generate_sparse_fermionic_operators(N):\n",
    "    \"\"\"\n",
    "    Generate sparse annihilation and creation operators for N orbitals with spin.\n",
    "    \n",
    "    Parameters:\n",
    "    N (int): Number of orbitals.\n",
    "    \n",
    "    Returns:\n",
    "    tuple: (annihilation_ops, creation_ops) where each is a list of 2N sparse matrices.\n",
    "           The order is [orbital_0↑, orbital_0↓, orbital_1↑, orbital_1↓, ...].\n",
    "    \"\"\"\n",
    "    \n",
    "    total_modes = 2 * N\n",
    "    annihilation_ops = []\n",
    "    creation_ops = []\n",
    "    \n",
    "    for p in range(total_modes):\n",
    "        # Initialize operator as a 1x1 identity matrix (to build Kronecker product)\n",
    "        op = sp.eye(1, dtype=complex, format='csr')\n",
    "        \n",
    "        for q in range(total_modes):\n",
    "            if q < p:\n",
    "                term = sigma_z\n",
    "            elif q == p:\n",
    "                term = sigma_minus\n",
    "            else:\n",
    "                term = identity\n",
    "            \n",
    "            # Kronecker product with sparse matrices\n",
    "            op = sp.kron(op, term, format='csr')\n",
    "        \n",
    "        annihilation_ops.append(op)\n",
    "        creation_ops.append(op.conj().transpose())  # Hermitian adjoint\n",
    "    \n",
    "    return annihilation_ops, creation_ops\n",
    "\n",
    "N = 8  # Number of orbitals\n",
    "cs, cdags = generate_sparse_fermionic_operators(N)"
   ]
  },
  {
   "cell_type": "code",
   "execution_count": 4,
   "id": "d0e5f739",
   "metadata": {},
   "outputs": [],
   "source": [
    "#Generate hamiltonian for 2x2x2 orbital Kane-Mele model\n",
    "\n",
    "NN_list = np.array([(1,2), (2, 3), (3,4), (5, 6), (5, 8), (7, 8), (2, 5)]) - 1\n",
    "NNN_list = np.array([(1, 3), (5, 7), (1, 5), (1, 7), (2, 8), (4, 6), (2, 4), (6, 8), (2, 6)]) - 1\n",
    "\n",
    "a = np.array([[1, 0],[-1/2, np.sqrt(3)/2],[-1/2, np.sqrt(3)/2]])\n",
    "b = np.array([[0, np.sqrt(3)],[3/2, -np.sqrt(3)/2],[-3/2, -np.sqrt(3)/2]])\n",
    "\n",
    "\n",
    "def g(k):\n",
    "    return np.sum(np.exp(1j*a@k))\n",
    "\n",
    "def g_bar(k, phi_h, sign):\n",
    "    return np.sum(np.exp(1j*b@k))*np.exp(sign*1j*phi_h)\n",
    "\n",
    "def hamil(t, mu, U, l_so, phi_h, k):\n",
    "    hamiltonian = sp.csr_matrix((4**N, 4**N), dtype=complex)\n",
    "    g_k = g(k)\n",
    "    g_bar_k_up = g_bar(k, phi_h, 1)\n",
    "    g_bar_k_down = g_bar(k, phi_h, -1)\n",
    "    for NN in NN_list:\n",
    "        hamiltonian+=(cdags[NN[0]*2]@cs[NN[1]*2]*g_k + cdags[NN[1]*2]@cs[NN[0]*2]*np.conj(g_k))*t*-1\n",
    "        hamiltonian+=(cdags[NN[0]*2+1]@cs[NN[1]*2+1]*g_k + cdags[NN[1]*2+1]@cs[NN[0]*2+1]*np.conj(g_k))*t*-1\n",
    "    for NNN in NNN_list:\n",
    "        hamiltonian+=(cdags[NNN[0]*2]@cs[NNN[1]*2]*g_bar_k_down + cdags[NNN[1]*2]@cs[NNN[0]*2]*np.conj(g_bar_k_down))*l_so\n",
    "        hamiltonian+=(cdags[NNN[0]*2+1]@cs[NNN[1]*2+1]*g_bar_k_up + cdags[NNN[1]*2+1]@cs[NNN[0]*2+1]*np.conj(g_bar_k_up))*l_so\n",
    "    for i in range(N):\n",
    "        hamiltonian+=cdags[i*2]@cs[i*2]@cdags[i*2+1]@cs[i*2+1]*U\n",
    "        hamiltonian+=-mu*(cdags[i*2]@cs[i*2]+cdags[i*2+1]@cs[i*2+1])\n",
    "    \n",
    "    return hamiltonian"
   ]
  },
  {
   "cell_type": "code",
   "execution_count": 5,
   "id": "e206c1bc",
   "metadata": {},
   "outputs": [],
   "source": [
    "test_hamil = hamil(1, 5, 10, 0.3, np.pi/2, (np.pi,np.pi))"
   ]
  },
  {
   "cell_type": "code",
   "execution_count": 6,
   "id": "a9b1b48b",
   "metadata": {},
   "outputs": [],
   "source": [
    "evals, evecs = sp.linalg.eigsh(test_hamil, return_eigenvectors=True, which='SR')"
   ]
  },
  {
   "cell_type": "code",
   "execution_count": 7,
   "id": "f70a662e",
   "metadata": {},
   "outputs": [],
   "source": [
    "cutoff = np.sum(np.abs((evals-evals[0]))<1e-10)"
   ]
  },
  {
   "cell_type": "code",
   "execution_count": 8,
   "id": "d41b3c23",
   "metadata": {},
   "outputs": [
    {
     "data": {
      "text/plain": [
       "array([[ 3.60511918e-18+7.93608817e-21j],\n",
       "       [-2.40039389e-18-2.49499821e-18j],\n",
       "       [-2.14976589e-18+2.40149841e-18j],\n",
       "       ...,\n",
       "       [ 2.97530871e-19-1.13919361e-18j],\n",
       "       [ 3.64707921e-18-3.81645702e-18j],\n",
       "       [ 5.24832410e-18-1.99310243e-18j]], shape=(65536, 1))"
      ]
     },
     "execution_count": 8,
     "metadata": {},
     "output_type": "execute_result"
    }
   ],
   "source": [
    "evecs[:,:cutoff]"
   ]
  },
  {
   "cell_type": "code",
   "execution_count": 9,
   "id": "a278ae76",
   "metadata": {},
   "outputs": [],
   "source": [
    "def get_occupancy(t, U, mu, l_so, phi_h, k_num):\n",
    "    \n",
    "    k_range = np.arange(k_num)/k_num\n",
    "\n",
    "    kx_range = np.array([[-1/2, np.sqrt(3)/2]]*k_num)*4*np.pi/np.sqrt(3)*k_range[:, np.newaxis]\n",
    "    ky_range = np.array([[1/2, np.sqrt(3)/2]]*k_num)*4*np.pi/np.sqrt(3)*k_range[:, np.newaxis]\n",
    "    \n",
    "    occ_sum = 0\n",
    "    acc = 1\n",
    "    for kx in kx_range:\n",
    "        for ky in ky_range:\n",
    "            #print(str(acc)+\"/\"+str(k_num**2)); acc+=1;\n",
    "            k = kx+ky\n",
    "            hamil_k = hamil(t, mu, U, l_so, phi_h, k)\n",
    "            evals, evecs = sp.linalg.eigsh(hamil_k, return_eigenvectors=True, which='SR', k=4)\n",
    "            cutoff = np.sum(np.abs((evals-evals[0]))<1e-10)\n",
    "            if cutoff>1: print(cutoff)\n",
    "            gs_vecs = evecs[:,:cutoff]\n",
    "            for i in range(2*N):\n",
    "                occ_sum += (gs_vecs.conj().T@cdags[i]@cs[i]@gs_vecs).sum()/cutoff \n",
    "    \n",
    "    return occ_sum/(k_num**2)/(2*N)"
   ]
  },
  {
   "cell_type": "code",
   "execution_count": 16,
   "id": "2e01dedd",
   "metadata": {},
   "outputs": [
    {
     "name": "stdout",
     "output_type": "stream",
     "text": [
      "0 29\n"
     ]
    },
    {
     "ename": "KeyboardInterrupt",
     "evalue": "",
     "output_type": "error",
     "traceback": [
      "\u001b[0;31m---------------------------------------------------------------------------\u001b[0m",
      "\u001b[0;31mKeyboardInterrupt\u001b[0m                         Traceback (most recent call last)",
      "Cell \u001b[0;32mIn[16], line 13\u001b[0m\n\u001b[1;32m     11\u001b[0m \u001b[38;5;28;01mfor\u001b[39;00m ind, mu \u001b[38;5;129;01min\u001b[39;00m \u001b[38;5;28menumerate\u001b[39m(mu_range):\n\u001b[1;32m     12\u001b[0m     \u001b[38;5;28mprint\u001b[39m(ind, \u001b[38;5;28mlen\u001b[39m(mu_range)\u001b[38;5;241m-\u001b[39m\u001b[38;5;241m1\u001b[39m)\n\u001b[0;32m---> 13\u001b[0m     occ_array[ind] \u001b[38;5;241m=\u001b[39m \u001b[43mget_occupancy\u001b[49m\u001b[43m(\u001b[49m\u001b[43mt\u001b[49m\u001b[43m,\u001b[49m\u001b[43m \u001b[49m\u001b[43mU\u001b[49m\u001b[43m,\u001b[49m\u001b[43m \u001b[49m\u001b[43mmu\u001b[49m\u001b[43m,\u001b[49m\u001b[43m \u001b[49m\u001b[43ml_so\u001b[49m\u001b[43m,\u001b[49m\u001b[43m \u001b[49m\u001b[43mphi_h\u001b[49m\u001b[43m,\u001b[49m\u001b[43m \u001b[49m\u001b[43mk_num\u001b[49m\u001b[43m)\u001b[49m\n",
      "Cell \u001b[0;32mIn[9], line 14\u001b[0m, in \u001b[0;36mget_occupancy\u001b[0;34m(t, U, mu, l_so, phi_h, k_num)\u001b[0m\n\u001b[1;32m     11\u001b[0m \u001b[38;5;28;01mfor\u001b[39;00m ky \u001b[38;5;129;01min\u001b[39;00m ky_range:\n\u001b[1;32m     12\u001b[0m     \u001b[38;5;66;03m#print(str(acc)+\"/\"+str(k_num**2)); acc+=1;\u001b[39;00m\n\u001b[1;32m     13\u001b[0m     k \u001b[38;5;241m=\u001b[39m kx\u001b[38;5;241m+\u001b[39mky\n\u001b[0;32m---> 14\u001b[0m     hamil_k \u001b[38;5;241m=\u001b[39m \u001b[43mhamil\u001b[49m\u001b[43m(\u001b[49m\u001b[43mt\u001b[49m\u001b[43m,\u001b[49m\u001b[43m \u001b[49m\u001b[43mmu\u001b[49m\u001b[43m,\u001b[49m\u001b[43m \u001b[49m\u001b[43mU\u001b[49m\u001b[43m,\u001b[49m\u001b[43m \u001b[49m\u001b[43ml_so\u001b[49m\u001b[43m,\u001b[49m\u001b[43m \u001b[49m\u001b[43mphi_h\u001b[49m\u001b[43m,\u001b[49m\u001b[43m \u001b[49m\u001b[43mk\u001b[49m\u001b[43m)\u001b[49m\n\u001b[1;32m     15\u001b[0m     evals, evecs \u001b[38;5;241m=\u001b[39m sp\u001b[38;5;241m.\u001b[39mlinalg\u001b[38;5;241m.\u001b[39meigsh(hamil_k, return_eigenvectors\u001b[38;5;241m=\u001b[39m\u001b[38;5;28;01mTrue\u001b[39;00m, which\u001b[38;5;241m=\u001b[39m\u001b[38;5;124m'\u001b[39m\u001b[38;5;124mSR\u001b[39m\u001b[38;5;124m'\u001b[39m, k\u001b[38;5;241m=\u001b[39m\u001b[38;5;241m4\u001b[39m)\n\u001b[1;32m     16\u001b[0m     cutoff \u001b[38;5;241m=\u001b[39m np\u001b[38;5;241m.\u001b[39msum(np\u001b[38;5;241m.\u001b[39mabs((evals\u001b[38;5;241m-\u001b[39mevals[\u001b[38;5;241m0\u001b[39m]))\u001b[38;5;241m<\u001b[39m\u001b[38;5;241m1e-10\u001b[39m)\n",
      "Cell \u001b[0;32mIn[4], line 26\u001b[0m, in \u001b[0;36mhamil\u001b[0;34m(t, mu, U, l_so, phi_h, k)\u001b[0m\n\u001b[1;32m     24\u001b[0m \u001b[38;5;28;01mfor\u001b[39;00m NNN \u001b[38;5;129;01min\u001b[39;00m NNN_list:\n\u001b[1;32m     25\u001b[0m     hamiltonian\u001b[38;5;241m+\u001b[39m\u001b[38;5;241m=\u001b[39m(cdags[NNN[\u001b[38;5;241m0\u001b[39m]\u001b[38;5;241m*\u001b[39m\u001b[38;5;241m2\u001b[39m]\u001b[38;5;129m@cs\u001b[39m[NNN[\u001b[38;5;241m1\u001b[39m]\u001b[38;5;241m*\u001b[39m\u001b[38;5;241m2\u001b[39m]\u001b[38;5;241m*\u001b[39mg_bar_k_down \u001b[38;5;241m+\u001b[39m cdags[NNN[\u001b[38;5;241m1\u001b[39m]\u001b[38;5;241m*\u001b[39m\u001b[38;5;241m2\u001b[39m]\u001b[38;5;129m@cs\u001b[39m[NNN[\u001b[38;5;241m0\u001b[39m]\u001b[38;5;241m*\u001b[39m\u001b[38;5;241m2\u001b[39m]\u001b[38;5;241m*\u001b[39mnp\u001b[38;5;241m.\u001b[39mconj(g_bar_k_down))\u001b[38;5;241m*\u001b[39ml_so\n\u001b[0;32m---> 26\u001b[0m     \u001b[43mhamiltonian\u001b[49m\u001b[38;5;241;43m+\u001b[39;49m\u001b[38;5;241;43m=\u001b[39;49m\u001b[43m(\u001b[49m\u001b[43mcdags\u001b[49m\u001b[43m[\u001b[49m\u001b[43mNNN\u001b[49m\u001b[43m[\u001b[49m\u001b[38;5;241;43m0\u001b[39;49m\u001b[43m]\u001b[49m\u001b[38;5;241;43m*\u001b[39;49m\u001b[38;5;241;43m2\u001b[39;49m\u001b[38;5;241;43m+\u001b[39;49m\u001b[38;5;241;43m1\u001b[39;49m\u001b[43m]\u001b[49m\u001b[38;5;129;43m@cs\u001b[39;49m\u001b[43m[\u001b[49m\u001b[43mNNN\u001b[49m\u001b[43m[\u001b[49m\u001b[38;5;241;43m1\u001b[39;49m\u001b[43m]\u001b[49m\u001b[38;5;241;43m*\u001b[39;49m\u001b[38;5;241;43m2\u001b[39;49m\u001b[38;5;241;43m+\u001b[39;49m\u001b[38;5;241;43m1\u001b[39;49m\u001b[43m]\u001b[49m\u001b[38;5;241;43m*\u001b[39;49m\u001b[43mg_bar_k_up\u001b[49m\u001b[43m \u001b[49m\u001b[38;5;241;43m+\u001b[39;49m\u001b[43m \u001b[49m\u001b[43mcdags\u001b[49m\u001b[43m[\u001b[49m\u001b[43mNNN\u001b[49m\u001b[43m[\u001b[49m\u001b[38;5;241;43m1\u001b[39;49m\u001b[43m]\u001b[49m\u001b[38;5;241;43m*\u001b[39;49m\u001b[38;5;241;43m2\u001b[39;49m\u001b[38;5;241;43m+\u001b[39;49m\u001b[38;5;241;43m1\u001b[39;49m\u001b[43m]\u001b[49m\u001b[38;5;129;43m@cs\u001b[39;49m\u001b[43m[\u001b[49m\u001b[43mNNN\u001b[49m\u001b[43m[\u001b[49m\u001b[38;5;241;43m0\u001b[39;49m\u001b[43m]\u001b[49m\u001b[38;5;241;43m*\u001b[39;49m\u001b[38;5;241;43m2\u001b[39;49m\u001b[38;5;241;43m+\u001b[39;49m\u001b[38;5;241;43m1\u001b[39;49m\u001b[43m]\u001b[49m\u001b[38;5;241;43m*\u001b[39;49m\u001b[43mnp\u001b[49m\u001b[38;5;241;43m.\u001b[39;49m\u001b[43mconj\u001b[49m\u001b[43m(\u001b[49m\u001b[43mg_bar_k_up\u001b[49m\u001b[43m)\u001b[49m\u001b[43m)\u001b[49m\u001b[38;5;241;43m*\u001b[39;49m\u001b[43ml_so\u001b[49m\n\u001b[1;32m     27\u001b[0m \u001b[38;5;28;01mfor\u001b[39;00m i \u001b[38;5;129;01min\u001b[39;00m \u001b[38;5;28mrange\u001b[39m(N):\n\u001b[1;32m     28\u001b[0m     hamiltonian\u001b[38;5;241m+\u001b[39m\u001b[38;5;241m=\u001b[39mcdags[i\u001b[38;5;241m*\u001b[39m\u001b[38;5;241m2\u001b[39m]\u001b[38;5;129m@cs\u001b[39m[i\u001b[38;5;241m*\u001b[39m\u001b[38;5;241m2\u001b[39m]\u001b[38;5;129m@cdags\u001b[39m[i\u001b[38;5;241m*\u001b[39m\u001b[38;5;241m2\u001b[39m\u001b[38;5;241m+\u001b[39m\u001b[38;5;241m1\u001b[39m]\u001b[38;5;129m@cs\u001b[39m[i\u001b[38;5;241m*\u001b[39m\u001b[38;5;241m2\u001b[39m\u001b[38;5;241m+\u001b[39m\u001b[38;5;241m1\u001b[39m]\u001b[38;5;241m*\u001b[39mU\n",
      "File \u001b[0;32m~/anaconda3/lib/python3.11/site-packages/scipy/sparse/_base.py:506\u001b[0m, in \u001b[0;36m_spbase.__add__\u001b[0;34m(self, other)\u001b[0m\n\u001b[1;32m    504\u001b[0m     \u001b[38;5;28;01mif\u001b[39;00m other\u001b[38;5;241m.\u001b[39mshape \u001b[38;5;241m!=\u001b[39m \u001b[38;5;28mself\u001b[39m\u001b[38;5;241m.\u001b[39mshape:\n\u001b[1;32m    505\u001b[0m         \u001b[38;5;28;01mraise\u001b[39;00m \u001b[38;5;167;01mValueError\u001b[39;00m(\u001b[38;5;124m\"\u001b[39m\u001b[38;5;124minconsistent shapes\u001b[39m\u001b[38;5;124m\"\u001b[39m)\n\u001b[0;32m--> 506\u001b[0m     \u001b[38;5;28;01mreturn\u001b[39;00m \u001b[38;5;28;43mself\u001b[39;49m\u001b[38;5;241;43m.\u001b[39;49m\u001b[43m_add_sparse\u001b[49m\u001b[43m(\u001b[49m\u001b[43mother\u001b[49m\u001b[43m)\u001b[49m\n\u001b[1;32m    507\u001b[0m \u001b[38;5;28;01melif\u001b[39;00m isdense(other):\n\u001b[1;32m    508\u001b[0m     other \u001b[38;5;241m=\u001b[39m np\u001b[38;5;241m.\u001b[39mbroadcast_to(other, \u001b[38;5;28mself\u001b[39m\u001b[38;5;241m.\u001b[39mshape)\n",
      "File \u001b[0;32m~/anaconda3/lib/python3.11/site-packages/scipy/sparse/_compressed.py:356\u001b[0m, in \u001b[0;36m_cs_matrix._add_sparse\u001b[0;34m(self, other)\u001b[0m\n\u001b[1;32m    355\u001b[0m \u001b[38;5;28;01mdef\u001b[39;00m \u001b[38;5;21m_add_sparse\u001b[39m(\u001b[38;5;28mself\u001b[39m, other):\n\u001b[0;32m--> 356\u001b[0m     \u001b[38;5;28;01mreturn\u001b[39;00m \u001b[38;5;28;43mself\u001b[39;49m\u001b[38;5;241;43m.\u001b[39;49m\u001b[43m_binopt\u001b[49m\u001b[43m(\u001b[49m\u001b[43mother\u001b[49m\u001b[43m,\u001b[49m\u001b[43m \u001b[49m\u001b[38;5;124;43m'\u001b[39;49m\u001b[38;5;124;43m_plus_\u001b[39;49m\u001b[38;5;124;43m'\u001b[39;49m\u001b[43m)\u001b[49m\n",
      "File \u001b[0;32m~/anaconda3/lib/python3.11/site-packages/scipy/sparse/_compressed.py:1387\u001b[0m, in \u001b[0;36m_cs_matrix._binopt\u001b[0;34m(self, other, op)\u001b[0m\n\u001b[1;32m   1384\u001b[0m     data \u001b[38;5;241m=\u001b[39m np\u001b[38;5;241m.\u001b[39mempty(maxnnz, dtype\u001b[38;5;241m=\u001b[39mupcast(\u001b[38;5;28mself\u001b[39m\u001b[38;5;241m.\u001b[39mdtype, other\u001b[38;5;241m.\u001b[39mdtype))\n\u001b[1;32m   1386\u001b[0m M, N \u001b[38;5;241m=\u001b[39m \u001b[38;5;28mself\u001b[39m\u001b[38;5;241m.\u001b[39m_shape_as_2d\n\u001b[0;32m-> 1387\u001b[0m \u001b[43mfn\u001b[49m\u001b[43m(\u001b[49m\u001b[43mM\u001b[49m\u001b[43m,\u001b[49m\u001b[43m \u001b[49m\u001b[43mN\u001b[49m\u001b[43m,\u001b[49m\n\u001b[1;32m   1388\u001b[0m \u001b[43m   \u001b[49m\u001b[43mnp\u001b[49m\u001b[38;5;241;43m.\u001b[39;49m\u001b[43masarray\u001b[49m\u001b[43m(\u001b[49m\u001b[38;5;28;43mself\u001b[39;49m\u001b[38;5;241;43m.\u001b[39;49m\u001b[43mindptr\u001b[49m\u001b[43m,\u001b[49m\u001b[43m \u001b[49m\u001b[43mdtype\u001b[49m\u001b[38;5;241;43m=\u001b[39;49m\u001b[43midx_dtype\u001b[49m\u001b[43m)\u001b[49m\u001b[43m,\u001b[49m\n\u001b[1;32m   1389\u001b[0m \u001b[43m   \u001b[49m\u001b[43mnp\u001b[49m\u001b[38;5;241;43m.\u001b[39;49m\u001b[43masarray\u001b[49m\u001b[43m(\u001b[49m\u001b[38;5;28;43mself\u001b[39;49m\u001b[38;5;241;43m.\u001b[39;49m\u001b[43mindices\u001b[49m\u001b[43m,\u001b[49m\u001b[43m \u001b[49m\u001b[43mdtype\u001b[49m\u001b[38;5;241;43m=\u001b[39;49m\u001b[43midx_dtype\u001b[49m\u001b[43m)\u001b[49m\u001b[43m,\u001b[49m\n\u001b[1;32m   1390\u001b[0m \u001b[43m   \u001b[49m\u001b[38;5;28;43mself\u001b[39;49m\u001b[38;5;241;43m.\u001b[39;49m\u001b[43mdata\u001b[49m\u001b[43m,\u001b[49m\n\u001b[1;32m   1391\u001b[0m \u001b[43m   \u001b[49m\u001b[43mnp\u001b[49m\u001b[38;5;241;43m.\u001b[39;49m\u001b[43masarray\u001b[49m\u001b[43m(\u001b[49m\u001b[43mother\u001b[49m\u001b[38;5;241;43m.\u001b[39;49m\u001b[43mindptr\u001b[49m\u001b[43m,\u001b[49m\u001b[43m \u001b[49m\u001b[43mdtype\u001b[49m\u001b[38;5;241;43m=\u001b[39;49m\u001b[43midx_dtype\u001b[49m\u001b[43m)\u001b[49m\u001b[43m,\u001b[49m\n\u001b[1;32m   1392\u001b[0m \u001b[43m   \u001b[49m\u001b[43mnp\u001b[49m\u001b[38;5;241;43m.\u001b[39;49m\u001b[43masarray\u001b[49m\u001b[43m(\u001b[49m\u001b[43mother\u001b[49m\u001b[38;5;241;43m.\u001b[39;49m\u001b[43mindices\u001b[49m\u001b[43m,\u001b[49m\u001b[43m \u001b[49m\u001b[43mdtype\u001b[49m\u001b[38;5;241;43m=\u001b[39;49m\u001b[43midx_dtype\u001b[49m\u001b[43m)\u001b[49m\u001b[43m,\u001b[49m\n\u001b[1;32m   1393\u001b[0m \u001b[43m   \u001b[49m\u001b[43mother\u001b[49m\u001b[38;5;241;43m.\u001b[39;49m\u001b[43mdata\u001b[49m\u001b[43m,\u001b[49m\n\u001b[1;32m   1394\u001b[0m \u001b[43m   \u001b[49m\u001b[43mindptr\u001b[49m\u001b[43m,\u001b[49m\u001b[43m \u001b[49m\u001b[43mindices\u001b[49m\u001b[43m,\u001b[49m\u001b[43m \u001b[49m\u001b[43mdata\u001b[49m\u001b[43m)\u001b[49m\n\u001b[1;32m   1396\u001b[0m A \u001b[38;5;241m=\u001b[39m \u001b[38;5;28mself\u001b[39m\u001b[38;5;241m.\u001b[39m\u001b[38;5;18m__class__\u001b[39m((data, indices, indptr), shape\u001b[38;5;241m=\u001b[39m\u001b[38;5;28mself\u001b[39m\u001b[38;5;241m.\u001b[39mshape)\n\u001b[1;32m   1397\u001b[0m A\u001b[38;5;241m.\u001b[39mprune()\n",
      "\u001b[0;31mKeyboardInterrupt\u001b[0m: "
     ]
    }
   ],
   "source": [
    "t = 1\n",
    "U = 0\n",
    "mu = U/2+1\n",
    "l_so = 0.3\n",
    "k_num = 10\n",
    "phi_h = 0.81*np.pi\n",
    "\n",
    "mu_range = np.linspace(-2*t, 2*t, 30)\n",
    "occ_array = np.zeros_like(mu_range)\n",
    "\n",
    "for ind, mu in enumerate(mu_range):\n",
    "    print(ind, len(mu_range)-1)\n",
    "    occ_array[ind] = get_occupancy(t, U, mu, l_so, phi_h, k_num)"
   ]
  },
  {
   "cell_type": "code",
   "execution_count": 12,
   "id": "23d53575-d40e-4587-9814-08fe6f1a171d",
   "metadata": {},
   "outputs": [],
   "source": [
    "data_dict = {'mu':mu_range, 'occ':occ_array}"
   ]
  },
  {
   "cell_type": "code",
   "execution_count": 13,
   "id": "168ac3c2",
   "metadata": {},
   "outputs": [
    {
     "data": {
      "text/plain": [
       "Text(0, 0.5, '$n_{occ}$ (Occupancy)')"
      ]
     },
     "execution_count": 13,
     "metadata": {},
     "output_type": "execute_result"
    },
    {
     "data": {
      "image/png": "[encoded data removed]",
      "text/plain": [
       "<Figure size 640x480 with 1 Axes>"
      ]
     },
     "metadata": {},
     "output_type": "display_data"
    }
   ],
   "source": [
    "with open('trivial.pkl', 'rb') as handle:\n",
    "    data_dict = pickle.load(handle)\n",
    "\n",
    "plt.scatter(data_dict['mu'], data_dict['occ'])\n",
    "plt.xlabel(r\"$\\mu$\")\n",
    "plt.ylabel(r\"$n_{occ}$ (Occupancy)\")"
   ]
  },
  {
   "cell_type": "code",
   "execution_count": 14,
   "id": "109edb4f-2d08-46f2-bae0-908740c19c46",
   "metadata": {},
   "outputs": [
    {
     "data": {
      "text/plain": [
       "array([0.500625, 0.500625, 0.500625, 0.500625, 0.500625, 0.500625,\n",
       "       0.5     , 0.500625, 0.500625, 0.500625, 0.50125 , 0.500625,\n",
       "       0.500625, 0.500625, 0.500625, 0.500625, 0.5     , 0.500625,\n",
       "       0.500625, 0.500625, 0.500625, 0.500625, 0.500625, 0.5     ,\n",
       "       0.500625, 0.500625, 0.500625, 0.500625, 0.500625, 0.50125 ])"
      ]
     },
     "execution_count": 14,
     "metadata": {},
     "output_type": "execute_result"
    }
   ],
   "source": [
    "occ_array"
   ]
  },
  {
   "cell_type": "code",
   "execution_count": 17,
   "id": "0ec8f4bc-bbcc-49c4-a046-f1a4f186988c",
   "metadata": {},
   "outputs": [
    {
     "data": {
      "text/plain": [
       "array([0.03757812, 0.04359375, 0.05625   , 0.06242188, 0.0646875 ,\n",
       "       0.074375  , 0.08851562, 0.12242187, 0.14007813, 0.17390625,\n",
       "       0.20046875, 0.2125    , 0.23454096, 0.25007812, 0.27700859,\n",
       "       0.32156429, 0.37500572, 0.37499156, 0.39701204, 0.41598055,\n",
       "       0.48148438, 0.48523438, 0.5       , 0.5       , 0.5       ,\n",
       "       0.5       , 0.5       , 0.5       , 0.5       , 0.5       ])"
      ]
     },
     "execution_count": 17,
     "metadata": {},
     "output_type": "execute_result"
    }
   ],
   "source": [
    "occ_array\n",
    "lambda_so = 0.3\n",
    "phi = 0.81*np.pi\n"
   ]
  },
  {
   "cell_type": "code",
   "execution_count": 75,
   "id": "8cfda116",
   "metadata": {},
   "outputs": [],
   "source": [
    "k_num = 20\n",
    "\n",
    "k_range = (np.arange(k_num)-k_num/2)/k_num\n",
    "\n",
    "kx_range = np.array([[-1/2, np.sqrt(3)/2]]*k_num)*4*np.pi/np.sqrt(3)*k_range[:, np.newaxis]\n",
    "ky_range = np.array([[1/2, np.sqrt(3)/2]]*k_num)*4*np.pi/np.sqrt(3)*k_range[:, np.newaxis]"
   ]
  },
  {
   "cell_type": "code",
   "execution_count": 78,
   "id": "30466300",
   "metadata": {},
   "outputs": [
    {
     "data": {
      "text/plain": [
       "(-7.0, 7.0)"
      ]
     },
     "execution_count": 78,
     "metadata": {},
     "output_type": "execute_result"
    },
    {
     "data": {
      "image/png": "[encoded data removed]",
      "text/plain": [
       "<Figure size 640x480 with 1 Axes>"
      ]
     },
     "metadata": {},
     "output_type": "display_data"
    }
   ],
   "source": [
    "\n",
    "for kx in kx_range:\n",
    "    for ky in ky_range:\n",
    "        k = kx+ky\n",
    "        #print(k[0], k[1])\n",
    "        plt.scatter([k[0]], [k[1]], c='k')\n",
    "        \n",
    "plt.xlim(-7, 7)\n",
    "plt.ylim(-7, 7)"
   ]
  },
  {
   "cell_type": "code",
   "execution_count": null,
   "id": "ead1fa00",
   "metadata": {},
   "outputs": [],
   "source": []
  }
 ],
 "metadata": {
  "kernelspec": {
   "display_name": "Python 3 (ipykernel)",
   "language": "python",
   "name": "python3"
  },
  "language_info": {
   "codemirror_mode": {
    "name": "ipython",
    "version": 3
   },
   "file_extension": ".py",
   "mimetype": "text/x-python",
   "name": "python",
   "nbconvert_exporter": "python",
   "pygments_lexer": "ipython3",
   "version": "3.11.5"
  }
 },
 "nbformat": 4,
 "nbformat_minor": 5
}
