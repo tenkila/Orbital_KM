{
 "cells": [
  {
   "cell_type": "code",
   "execution_count": 1,
   "id": "faab748e-9b20-4afb-abd4-b950d50de6a1",
   "metadata": {},
   "outputs": [],
   "source": [
    "import numpy as np\n",
    "import scipy.sparse as sp\n",
    "import matplotlib.pyplot as plt\n",
    "import pickle, time"
   ]
  },
  {
   "cell_type": "code",
   "execution_count": 2,
   "id": "5e47af34-d3df-4bfd-9cc6-b51b3c368067",
   "metadata": {},
   "outputs": [],
   "source": [
    "\n",
    "\n",
    "# Define basic sparse matrices (CSR format for efficient arithmetic)\n",
    "sigma_z = sp.dia_matrix(([1, -1], 0), shape=(2, 2), dtype=complex).tocsr()\n",
    "sigma_minus = sp.csr_matrix(([1], ([1], [0])), shape=(2, 2), dtype=complex)\n",
    "identity = sp.eye(2, dtype=complex, format='csr')\n",
    "\n",
    "\n",
    "def generate_sparse_fermionic_operators(N):\n",
    "    \"\"\"\n",
    "    Generate sparse annihilation and creation operators for N orbitals with spin.\n",
    "    \n",
    "    Parameters:\n",
    "    N (int): Number of orbitals.\n",
    "    \n",
    "    Returns:\n",
    "    tuple: (annihilation_ops, creation_ops) where each is a list of 2N sparse matrices.\n",
    "           The order is [orbital_0↑, orbital_0↓, orbital_1↑, orbital_1↓, ...].\n",
    "    \"\"\"\n",
    "    \n",
    "    total_modes = 2 * N\n",
    "    annihilation_ops = []\n",
    "    creation_ops = []\n",
    "    \n",
    "    for p in range(total_modes):\n",
    "        # Initialize operator as a 1x1 identity matrix (to build Kronecker product)\n",
    "        op = sp.eye(1, dtype=complex, format='csr')\n",
    "        \n",
    "        for q in range(total_modes):\n",
    "            if q < p:\n",
    "                term = sigma_z\n",
    "            elif q == p:\n",
    "                term = sigma_minus\n",
    "            else:\n",
    "                term = identity\n",
    "            \n",
    "            # Kronecker product with sparse matrices\n",
    "            op = sp.kron(op, term, format='csr')\n",
    "        \n",
    "        annihilation_ops.append(op)\n",
    "        creation_ops.append(op.conj().transpose())  # Hermitian adjoint\n",
    "    \n",
    "    return annihilation_ops, creation_ops\n",
    "\n",
    "N = 4  # Number of orbitals\n",
    "cs, cdags = generate_sparse_fermionic_operators(N)"
   ]
  },
  {
   "cell_type": "code",
   "execution_count": 21,
   "id": "a638e989-0b3d-4110-9a8c-7951127a4218",
   "metadata": {},
   "outputs": [],
   "source": [
    "a1 = np.array([1/2, np.sqrt(3)/2])\n",
    "a2 = np.array([1/2, -np.sqrt(3)/2])\n",
    "a3 = np.array([1, 0])\n",
    "\n",
    "Cs = np.cos\n",
    "\n",
    "def non_int_hamil(k, t):\n",
    "    return -2*t*np.array([[0, Cs(a3@k), Cs(a2@k), Cs(a1@k)],\n",
    "                     [Cs(a3@k), 0, Cs(a1@k), Cs(a2@k)],\n",
    "                     [Cs(a2@k), Cs(a1@k), 0, Cs(a3@k)],\n",
    "                     [Cs(a1@k), Cs(a2@k), Cs(a3@k), 0]])\n",
    "\n",
    "\n",
    "def hamil(t, mu, U, k):\n",
    "    hamiltonian = sp.csr_matrix((4**N, 4**N), dtype=complex)\n",
    "    NI_hamil = non_int_hamil(k, t)\n",
    "    for i in range(N):\n",
    "        for j in range(i+1, N):\n",
    "            hamiltonian+=(cdags[i*2]@cs[j*2] + cdags[j*2]@cs[i*2])*NI_hamil[i,j]\n",
    "            hamiltonian+=(cdags[i*2+1]@cs[j*2+1] + cdags[j*2+1]@cs[i*2+1])*NI_hamil[i,j]\n",
    "    for i in range(N):\n",
    "        hamiltonian+=cdags[i*2]@cs[i*2]@cdags[i*2+1]@cs[i*2+1]*U\n",
    "        hamiltonian+=-mu*(cdags[i*2]@cs[i*2]+cdags[i*2+1]@cs[i*2+1])\n",
    "    \n",
    "    return hamiltonian"
   ]
  },
  {
   "cell_type": "code",
   "execution_count": 80,
   "id": "cd0c2470-06f3-46f1-a075-66000cafc49e",
   "metadata": {},
   "outputs": [],
   "source": [
    "import itertools\n",
    "\n",
    "def get_m_basis_indices(N, M):\n",
    "    \"\"\"\n",
    "    Generate the indices of the M-particle sector in the full Hilbert space.\n",
    "    \n",
    "    Parameters:\n",
    "    N (int): Number of orbitals.\n",
    "    M (int): Number of particles.\n",
    "    \n",
    "    Returns:\n",
    "    list: Sorted list of indices in the full Hilbert space.\n",
    "    \"\"\"\n",
    "    total_modes = 2 * N\n",
    "    m_indices = []\n",
    "    for bits in itertools.combinations(range(total_modes), M):\n",
    "        index = 0\n",
    "        for q in bits:\n",
    "            # Reverse mode order to match the Kronecker product ordering\n",
    "            pos = total_modes - 1 - q\n",
    "            index += (1 << pos)\n",
    "        m_indices.append(index)\n",
    "    return sorted(m_indices)\n",
    "\n",
    "# Example usage:\n",
    "N = 4\n",
    "M = 5  # Choose your desired particle number sector\n",
    "\n",
    "# Generate the indices for the M-particle sector\n",
    "m_indices = get_m_basis_indices(N, M)\n",
    "\n",
    "# Assuming H is your Hamiltonian constructed as a sparse matrix in the full space\n",
    "# Project H into the M-particle sector\n",
    "#H_m = H[m_indices, :][:, m_indices]\n",
    "\n",
    "# Convert to a dense matrix if needed (be cautious with memory)\n",
    "# H_m_dense = H_m.toarray()"
   ]
  },
  {
   "cell_type": "code",
   "execution_count": 81,
   "id": "ca649975-bb0a-40a4-a627-7413955074f9",
   "metadata": {},
   "outputs": [
    {
     "data": {
      "text/plain": [
       "array([3., 3., 3., 3., 3., 3., 3., 3., 3., 3.])"
      ]
     },
     "execution_count": 81,
     "metadata": {},
     "output_type": "execute_result"
    }
   ],
   "source": [
    "num_op = sp.csr_matrix((4**N, 4**N), dtype=complex)\n",
    "for i in range(2*N):\n",
    "    num_op+=cdags[i]@cs[i]\n",
    "\n",
    "evals, evecs = sp.linalg.eigsh(num_op[m_indices, :][:, m_indices], return_eigenvectors=True, which='SM', k=10)\n",
    "evals"
   ]
  },
  {
   "cell_type": "code",
   "execution_count": 41,
   "id": "551602cc-1412-487f-b8b4-8f8f73fe34ef",
   "metadata": {},
   "outputs": [
    {
     "data": {
      "image/png": "[encoded data removed]",
      "text/plain": [
       "<Figure size 640x480 with 1 Axes>"
      ]
     },
     "metadata": {},
     "output_type": "display_data"
    }
   ],
   "source": [
    "b1 = np.array([np.sqrt(3)/2, 1/2])*4*np.pi/np.sqrt(3)\n",
    "b2 = np.array([np.sqrt(3)/2, -1/2])*4*np.pi/np.sqrt(3)\n",
    "\n",
    "def get_BZ_points(k_num):\n",
    "    k_points = []\n",
    "    for n in range(k_num):\n",
    "        for m in range(k_num):\n",
    "            k_points.append(b1*n/k_num+b2*m/k_num)\n",
    "\n",
    "    return k_points\n",
    "\n",
    "for k in get_BZ_points(10):\n",
    "    plt.scatter(k[0], k[1], c='k')\n",
    "\n",
    "br1 = np.array([np.sqrt(3), -1])*np.pi/np.sqrt(3)\n",
    "br2 = np.array([0, 2])*np.pi/np.sqrt(3)\n",
    "\n",
    "def get_redBZ_points(k_num):\n",
    "    k_points = []\n",
    "    for n in range(k_num):\n",
    "        for m in range(k_num):\n",
    "            k_points.append(b1*n/k_num/2+b2*m/k_num/2)\n",
    "\n",
    "    return k_points\n",
    "\n",
    "for k in get_redBZ_points(10):\n",
    "    plt.scatter(k[0], k[1], c='red')"
   ]
  },
  {
   "cell_type": "code",
   "execution_count": 96,
   "id": "ec784275-5f3b-4fe7-ba56-8ef463c5f1b6",
   "metadata": {},
   "outputs": [
    {
     "name": "stdout",
     "output_type": "stream",
     "text": [
      "3.0\n",
      "3.2222222222222223\n",
      "3.4444444444444446\n",
      "3.6666666666666665\n",
      "3.888888888888889\n",
      "4.111111111111111\n",
      "4.333333333333333\n",
      "4.555555555555555\n",
      "4.777777777777778\n",
      "5.0\n"
     ]
    }
   ],
   "source": [
    "U_list = np.linspace(3, 5, 10)\n",
    "t = 1\n",
    "k_num = 20\n",
    "charge_gap_list = []\n",
    "\n",
    "for U in U_list:\n",
    "    print(U)\n",
    "    gs_list = []\n",
    "    ion_plus_list = []\n",
    "    ion_minus_list = []\n",
    "    for k in get_redBZ_points(k_num):\n",
    "        hamil_k = hamil(t, U/2, U, k)\n",
    "        m_indices = get_m_basis_indices(N, N)\n",
    "        gs_list.append(min(np.linalg.eigvals(hamil_k[m_indices, :][:, m_indices].toarray())))\n",
    "\n",
    "        m_indices = get_m_basis_indices(N, N-1)\n",
    "        ion_plus_list.append(min(np.linalg.eigvals(hamil_k[m_indices, :][:, m_indices].toarray())))\n",
    "\n",
    "        m_indices = get_m_basis_indices(N, N+1)\n",
    "        ion_minus_list.append(min(np.linalg.eigvals(hamil_k[m_indices, :][:, m_indices].toarray())))\n",
    "\n",
    "\n",
    "    charge_gap_list.append(max(min(np.array(ion_minus_list)-np.array(gs_list))+min(np.array(ion_plus_list)-np.array(gs_list)), 0))"
   ]
  },
  {
   "cell_type": "code",
   "execution_count": 98,
   "id": "dde4b643-ab9f-49ef-88b1-2a5cfcb0a54f",
   "metadata": {},
   "outputs": [
    {
     "data": {
      "text/plain": [
       "Text(0, 0.5, 'Charge Gap')"
      ]
     },
     "execution_count": 98,
     "metadata": {},
     "output_type": "execute_result"
    },
    {
     "data": {
      "image/png": "[encoded data removed]",
      "text/plain": [
       "<Figure size 640x480 with 1 Axes>"
      ]
     },
     "metadata": {},
     "output_type": "display_data"
    }
   ],
   "source": [
    "plt.plot(U_list[:], charge_gap_list)\n",
    "plt.xlabel(\"U/t\")\n",
    "plt.ylabel(\"Charge Gap\")"
   ]
  },
  {
   "cell_type": "code",
   "execution_count": 71,
   "id": "6a6cad5d-e1be-49d4-a7e0-79f0772b0830",
   "metadata": {},
   "outputs": [
    {
     "data": {
      "text/plain": [
       "-7.12680613600721"
      ]
     },
     "execution_count": 71,
     "metadata": {},
     "output_type": "execute_result"
    }
   ],
   "source": [
    "hamil_k = hamil(1, 0.5, 1, k)\n",
    "m_indices = get_m_basis_indices(N, N-1)\n",
    "sp.linalg.eigsh(hamil_k[m_indices, :][:, m_indices], return_eigenvectors=False, which='SR', k=1)[0]"
   ]
  },
  {
   "cell_type": "code",
   "execution_count": 69,
   "id": "23ed2eb2-1acc-4ae2-a210-ce5984ffabf4",
   "metadata": {},
   "outputs": [
    {
     "data": {
      "text/plain": [
       "(-8.772628486982875+0j)"
      ]
     },
     "execution_count": 69,
     "metadata": {},
     "output_type": "execute_result"
    }
   ],
   "source": [
    "min((np.linalg.eigvals(hamil_k[m_indices, :][:, m_indices].toarray())))"
   ]
  },
  {
   "cell_type": "code",
   "execution_count": 82,
   "id": "99615c87-02a6-4ac2-9709-3fe60a0cbe61",
   "metadata": {},
   "outputs": [
    {
     "data": {
      "text/plain": [
       "[0.0007755407534411063,\n",
       " 0.04221906214294435,\n",
       " 0.14062266466490314,\n",
       " 0.28850251665228654,\n",
       " 0.4796371922855158,\n",
       " 0.7088910600709433,\n",
       " 0.9720163526364587,\n",
       " 1.2654702017421364,\n",
       " 1.586260916352149,\n",
       " 1.9318259760020666]"
      ]
     },
     "execution_count": 82,
     "metadata": {},
     "output_type": "execute_result"
    }
   ],
   "source": [
    "charge_gap_list"
   ]
  },
  {
   "cell_type": "code",
   "execution_count": null,
   "id": "951b16da-43e6-4df2-985d-b645ebf8f185",
   "metadata": {},
   "outputs": [],
   "source": []
  }
 ],
 "metadata": {
  "kernelspec": {
   "display_name": "Python 3 (ipykernel)",
   "language": "python",
   "name": "python3"
  },
  "language_info": {
   "codemirror_mode": {
    "name": "ipython",
    "version": 3
   },
   "file_extension": ".py",
   "mimetype": "text/x-python",
   "name": "python",
   "nbconvert_exporter": "python",
   "pygments_lexer": "ipython3",
   "version": "3.12.3"
  }
 },
 "nbformat": 4,
 "nbformat_minor": 5
}
